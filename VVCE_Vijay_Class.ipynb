{
 "cells": [
  {
   "cell_type": "code",
   "execution_count": 1,
   "metadata": {},
   "outputs": [],
   "source": [
    "#Class\n",
    "class myclass:\n",
    "    x=5"
   ]
  },
  {
   "cell_type": "code",
   "execution_count": 2,
   "metadata": {},
   "outputs": [
    {
     "ename": "NameError",
     "evalue": "name 'x' is not defined",
     "output_type": "error",
     "traceback": [
      "\u001b[1;31m---------------------------------------------------------------------------\u001b[0m",
      "\u001b[1;31mNameError\u001b[0m                                 Traceback (most recent call last)",
      "\u001b[1;32m<ipython-input-2-fc17d851ef81>\u001b[0m in \u001b[0;36m<module>\u001b[1;34m()\u001b[0m\n\u001b[1;32m----> 1\u001b[1;33m \u001b[0mprint\u001b[0m\u001b[1;33m(\u001b[0m\u001b[0mx\u001b[0m\u001b[1;33m)\u001b[0m\u001b[1;33m\u001b[0m\u001b[0m\n\u001b[0m",
      "\u001b[1;31mNameError\u001b[0m: name 'x' is not defined"
     ]
    }
   ],
   "source": [
    "print(x)"
   ]
  },
  {
   "cell_type": "code",
   "execution_count": 3,
   "metadata": {},
   "outputs": [
    {
     "name": "stdout",
     "output_type": "stream",
     "text": [
      "5\n"
     ]
    }
   ],
   "source": [
    "#Class\n",
    "#we can not access the class variables directly, we require objects to access\n",
    "class myclass:\n",
    "    x=5\n",
    "    \n",
    "obj = myclass() #Object Creation \n",
    "print(obj.x) #Printing Value of variable using objects"
   ]
  },
  {
   "cell_type": "code",
   "execution_count": 6,
   "metadata": {},
   "outputs": [
    {
     "name": "stdout",
     "output_type": "stream",
     "text": [
      "jhon\n",
      "28\n"
     ]
    }
   ],
   "source": [
    "#  __init__()\n",
    "\n",
    "class human: #Class Name\n",
    "    def __init__(a,name,age):  #init function\n",
    "        a.name=name\n",
    "        a.age=age\n",
    "        \n",
    "obj=human(\"jhon\",28)\n",
    "    \n",
    "print(obj.name)\n",
    "print(obj.age)\n",
    "    "
   ]
  },
  {
   "cell_type": "code",
   "execution_count": 13,
   "metadata": {},
   "outputs": [
    {
     "name": "stdout",
     "output_type": "stream",
     "text": [
      "The name of the brid is parrot\n"
     ]
    }
   ],
   "source": [
    "#Object Methods\n",
    "\n",
    "class bird:\n",
    "    def __init__(a,name,wings): #init function\n",
    "        a.name=name\n",
    "        a.wings=wings\n",
    "        \n",
    "    def myfunc(x): #method\n",
    "        print(\"The name of the brid is \" + x.name)\n",
    "        \n",
    "obj= bird(\"parrot\",2)\n",
    "\n",
    "obj.myfunc()\n",
    "    \n",
    "    "
   ]
  },
  {
   "cell_type": "code",
   "execution_count": 20,
   "metadata": {},
   "outputs": [
    {
     "name": "stdout",
     "output_type": "stream",
     "text": [
      "Addition of two variable values v1,v2 =        30\n",
      "Subtraction of two variable values v1,v2 =     -10\n",
      "Multiplication of two variable values v1,v2 =  200\n",
      "Division of two variable values v1,v2 =        0.5\n"
     ]
    }
   ],
   "source": [
    "#sum of two variables using init() program\n",
    "\n",
    "class sum:\n",
    "    def __init__(a,v1,v2):\n",
    "        a.v1=v1\n",
    "        a.v2=v2\n",
    "        \n",
    "obj1=sum(10,20)\n",
    "\n",
    "#All Basic Arithmatic Operation\n",
    "\n",
    "result1=obj1.v1 + obj1.v2\n",
    "result2=obj1.v1 - obj1.v2\n",
    "result3=obj1.v1 * obj1.v2\n",
    "result4=obj1.v1 / obj1.v2\n",
    "\n",
    "print(\"Addition of two variable values v1,v2 =       \", result1)\n",
    "print(\"Subtraction of two variable values v1,v2 =    \", result2)\n",
    "print(\"Multiplication of two variable values v1,v2 = \", result3)\n",
    "print(\"Division of two variable values v1,v2 =       \", result4)"
   ]
  },
  {
   "cell_type": "code",
   "execution_count": 22,
   "metadata": {},
   "outputs": [
    {
     "name": "stdout",
     "output_type": "stream",
     "text": [
      "Greater than 10\n",
      "please provide a values greater than b\n"
     ]
    }
   ],
   "source": [
    "#sum of two variables using init() program\n",
    "\n",
    "class sum:\n",
    "    def __init__(a,v1,v2):\n",
    "        a.v1=v1\n",
    "        a.v2=v2\n",
    "        \n",
    "obj1=sum(10,20)\n",
    "\n",
    "result1=obj1.v1 + obj1.v2\n",
    "result2=obj1.v1 - obj1.v2\n",
    "result3=obj1.v1 * obj1.v2\n",
    "result4=obj1.v1 / obj1.v2\n",
    "\n",
    "if result1>10 :\n",
    "    print(\"Greater than 10\")\n",
    "    \n",
    "if result2<0:\n",
    "    print(\"please provide a values greater than b\")"
   ]
  },
  {
   "cell_type": "code",
   "execution_count": 28,
   "metadata": {},
   "outputs": [
    {
     "name": "stdout",
     "output_type": "stream",
     "text": [
      "jhon\n"
     ]
    },
    {
     "ename": "AttributeError",
     "evalue": "'human' object has no attribute 'age'",
     "output_type": "error",
     "traceback": [
      "\u001b[1;31m---------------------------------------------------------------------------\u001b[0m",
      "\u001b[1;31mAttributeError\u001b[0m                            Traceback (most recent call last)",
      "\u001b[1;32m<ipython-input-28-cab67466d0a3>\u001b[0m in \u001b[0;36m<module>\u001b[1;34m()\u001b[0m\n\u001b[0;32m     13\u001b[0m \u001b[1;33m\u001b[0m\u001b[0m\n\u001b[0;32m     14\u001b[0m \u001b[0mprint\u001b[0m\u001b[1;33m(\u001b[0m\u001b[0mobj\u001b[0m\u001b[1;33m.\u001b[0m\u001b[0mname\u001b[0m\u001b[1;33m)\u001b[0m\u001b[1;33m\u001b[0m\u001b[0m\n\u001b[1;32m---> 15\u001b[1;33m \u001b[0mprint\u001b[0m\u001b[1;33m(\u001b[0m\u001b[0mobj\u001b[0m\u001b[1;33m.\u001b[0m\u001b[0mage\u001b[0m\u001b[1;33m)\u001b[0m\u001b[1;33m\u001b[0m\u001b[0m\n\u001b[0m",
      "\u001b[1;31mAttributeError\u001b[0m: 'human' object has no attribute 'age'"
     ]
    }
   ],
   "source": [
    "#  __init__()\n",
    "\n",
    "class human: #Class Name\n",
    "    def __init__(a,name,age):  #init function\n",
    "        a.name=name\n",
    "        a.age=age\n",
    "        \n",
    "obj=human(\"jhon\",28)\n",
    "\n",
    "obj.age=40 #updating the value\n",
    "del obj.age #deleting the value\n",
    "#del obj  #deleting the complete object\n",
    "\n",
    "print(obj.name)\n",
    "print(obj.age)"
   ]
  },
  {
   "cell_type": "code",
   "execution_count": null,
   "metadata": {},
   "outputs": [],
   "source": []
  }
 ],
 "metadata": {
  "kernelspec": {
   "display_name": "Python 3",
   "language": "python",
   "name": "python3"
  },
  "language_info": {
   "codemirror_mode": {
    "name": "ipython",
    "version": 3
   },
   "file_extension": ".py",
   "mimetype": "text/x-python",
   "name": "python",
   "nbconvert_exporter": "python",
   "pygments_lexer": "ipython3",
   "version": "3.7.0"
  }
 },
 "nbformat": 4,
 "nbformat_minor": 2
}
