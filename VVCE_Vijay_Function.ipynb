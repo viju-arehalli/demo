{
 "cells": [
  {
   "cell_type": "code",
   "execution_count": 1,
   "metadata": {},
   "outputs": [],
   "source": [
    "#Functions\n",
    "\n",
    "def myfunc():\n",
    "    print(\"Hello from function\")"
   ]
  },
  {
   "cell_type": "code",
   "execution_count": 2,
   "metadata": {},
   "outputs": [
    {
     "name": "stdout",
     "output_type": "stream",
     "text": [
      "Hello from function\n"
     ]
    }
   ],
   "source": [
    "myfunc()"
   ]
  },
  {
   "cell_type": "code",
   "execution_count": 8,
   "metadata": {},
   "outputs": [],
   "source": [
    "#Parameter Passing\n",
    "def func1(fname):\n",
    "    print(fname + \"kumar\")\n",
    " #   print(fname + \"kumari\")\n",
    " #   print(fname + \"khan\")"
   ]
  },
  {
   "cell_type": "code",
   "execution_count": 12,
   "metadata": {},
   "outputs": [
    {
     "name": "stdout",
     "output_type": "stream",
     "text": [
      "vijaykumar\n",
      "ramyakumar\n",
      "kumar\n"
     ]
    }
   ],
   "source": [
    "func1(\"vijay\")\n",
    "func1(\"ramya\")\n",
    "func1(\"\")"
   ]
  },
  {
   "cell_type": "code",
   "execution_count": 20,
   "metadata": {},
   "outputs": [],
   "source": [
    "def func2(country=\"India\"):\n",
    "    print(\"I am from \" + country)\n",
    "    "
   ]
  },
  {
   "cell_type": "code",
   "execution_count": 21,
   "metadata": {},
   "outputs": [
    {
     "name": "stdout",
     "output_type": "stream",
     "text": [
      "I am from USA\n",
      "I am from India\n"
     ]
    }
   ],
   "source": [
    "func2(\"USA\")\n",
    "func2()"
   ]
  },
  {
   "cell_type": "code",
   "execution_count": 22,
   "metadata": {},
   "outputs": [
    {
     "name": "stdout",
     "output_type": "stream",
     "text": [
      "20\n",
      "10\n"
     ]
    }
   ],
   "source": [
    "#Returning a Value\n",
    "\n",
    "def func3(x):\n",
    "    return 5*x\n",
    "\n",
    "print(func3(4))\n",
    "print(func3(2))"
   ]
  },
  {
   "cell_type": "code",
   "execution_count": 23,
   "metadata": {},
   "outputs": [
    {
     "name": "stdout",
     "output_type": "stream",
     "text": [
      "10\n",
      "4\n"
     ]
    }
   ],
   "source": [
    "#cALCULATOR\n",
    "\n",
    "def calc(x,y):\n",
    "    print(x*y)\n",
    "    \n",
    "calc(2,5)\n",
    "calc(2,2)\n"
   ]
  },
  {
   "cell_type": "code",
   "execution_count": 30,
   "metadata": {},
   "outputs": [],
   "source": [
    "\n",
    "def add(a,b,c):\n",
    "    print(a+b+c)\n",
    "    \n",
    "def mul(a,b):\n",
    "    print(a+b)\n",
    "    \n",
    "def sub(a,b):\n",
    "    print(a-b)\n",
    "    "
   ]
  },
  {
   "cell_type": "code",
   "execution_count": 31,
   "metadata": {},
   "outputs": [
    {
     "name": "stdout",
     "output_type": "stream",
     "text": [
      "15\n",
      "4\n",
      "5\n"
     ]
    }
   ],
   "source": [
    "add(10,2,3)\n",
    "mul(2,2)\n",
    "sub(10,5)"
   ]
  },
  {
   "cell_type": "code",
   "execution_count": null,
   "metadata": {},
   "outputs": [],
   "source": []
  }
 ],
 "metadata": {
  "kernelspec": {
   "display_name": "Python 3",
   "language": "python",
   "name": "python3"
  },
  "language_info": {
   "codemirror_mode": {
    "name": "ipython",
    "version": 3
   },
   "file_extension": ".py",
   "mimetype": "text/x-python",
   "name": "python",
   "nbconvert_exporter": "python",
   "pygments_lexer": "ipython3",
   "version": "3.7.0"
  }
 },
 "nbformat": 4,
 "nbformat_minor": 2
}
